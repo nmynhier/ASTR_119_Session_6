{
 "cells": [
  {
   "cell_type": "code",
   "execution_count": null,
   "metadata": {},
   "outputs": [],
   "source": [
    "import numpy as np\n",
    "import matplotlib.pyplot as plt"
   ]
  },
  {
   "cell_type": "code",
   "execution_count": null,
   "metadata": {},
   "outputs": [],
   "source": [
    "x = np.arange(0,5,0.1)   #the notation makes the thired entry the increment o -> 5 in by .1\n",
    "y = np.sin(x)            #y = sin(x)\n",
    "plt.plot(x,y)            #make a plot\n",
    "plt.xlabel('x')          #label the x-axis\n",
    "plt.ylabel('sin(x)')     #label the y-axis\n",
    "plt.show()               #show the plot on screen\n"
   ]
  },
  {
   "cell_type": "code",
   "execution_count": null,
   "metadata": {},
   "outputs": [],
   "source": [
    "x = np.arange(0,5,0.1)   #the notation makes the thired entry the increment o -> 5 in by .1\n",
    "y = np.sin(x)            #y = sin(x)\n",
    "plt.plot(x,y)            #make a plot\n",
    "plt.xlabel('x')          #label the x-axis\n",
    "plt.ylabel('sin(x)')     #label the y-axis\n",
    "plt.savefig('sinx.png',bbox_inches=\"tight\",dpi=600)\n"
   ]
  },
  {
   "cell_type": "markdown",
   "metadata": {},
   "source": [
    "Making panels in matplotlib (Below)"
   ]
  },
  {
   "cell_type": "code",
   "execution_count": null,
   "metadata": {},
   "outputs": [],
   "source": [
    "%matplotlib inline\n",
    "import matplotlib.pyplot as plt\n",
    "import numpy as np"
   ]
  },
  {
   "cell_type": "code",
   "execution_count": null,
   "metadata": {},
   "outputs": [],
   "source": [
    "x = np.linspace(0,2*np.pi,100)\n",
    "print(x[-1],2*np.pi)\n",
    "\n",
    "y = np.sin(x)\n",
    "z = np.cos(x)\n",
    "w = np.sin(4*x)\n",
    "v = np.cos(4*x)\n"
   ]
  },
  {
   "cell_type": "code",
   "execution_count": null,
   "metadata": {},
   "outputs": [],
   "source": [
    "#call subpolot o generate a multipanel figure. This eans 1 ro, 2 columns of figures \n",
    "f, axarr = plt.subplots(1, 2)\n",
    "\n",
    "#treat axarr as an array, from left to right\n",
    "\n",
    "#first panel\n",
    "axarr[0].plot(x, y)\n",
    "axarr[0].set_xlabel('x')\n",
    "axarr[0].set_ylabel('sin(x)')\n",
    "axarr[0].set_title(r'$\\sin(x)$')\n",
    "#second panel\n",
    "axarr[1].plot(x, z)\n",
    "axarr[1].set_xlabel('x')\n",
    "axarr[1].set_ylabel('cos(x)')\n",
    "axarr[1].set_title(r'$\\cos(x)$')\n",
    "\n",
    "#add more space between the figures\n",
    "f.subplots_adjust(wspace=0.8)\n",
    "\n",
    "#fix the axis ratio\n",
    "#here are the two possible options\n",
    "axarr[0].set_aspect('equal')  #make the ratio of the tick units equal, a bit counter intuitive\n",
    "axarr[1].set_aspect(np.pi)    #make a square by setting the aspect to be the ratio o the tick unit range\n"
   ]
  },
  {
   "cell_type": "code",
   "execution_count": null,
   "metadata": {},
   "outputs": [],
   "source": [
    "fig = plt.figure(figsize=(6,6))\n",
    "\n",
    "plt.plot(x, y, label=r'$y = \\sin(x)$')   #add a label to the line\n",
    "plt.plot(x, z, label=r'$y = \\cos(x)$')   #add a label to the second line\n",
    "plt.plot(x, w, label=r'$y = \\sin(4x)$')  #add a label to the second third line\n",
    "plt.plot(x, y, label=r'$y = \\cos(4x)$')  #add a label to the fourth line \n",
    "\n",
    "plt.xlabel(r'$x$')                       #note set_xlabel vs xlabel\n",
    "plt.ylabel(r'$y(x)$')                    #note set_ylabel vs ylabel\n",
    "plt.xlim([0,2*np.pi])                    #note set_xlim vs xlim\n",
    "plt.ylim([-1.2,1.2])                     #note set_ylim vs ylim\n",
    "plt.legend(loc=1,framealpha=0.95)        #add a legend with a semi-transparent frame in the upper RH corner\n",
    "\n",
    "\n",
    "#fix the axis ratio\n",
    "plt.gca().set_aspect(np.pi/1.2)  #use \"gca\" to get current axis()"
   ]
  },
  {
   "cell_type": "raw",
   "metadata": {},
   "source": []
  }
 ],
 "metadata": {
  "kernelspec": {
   "display_name": "Python 3",
   "language": "python",
   "name": "python3"
  },
  "language_info": {
   "codemirror_mode": {
    "name": "ipython",
    "version": 3
   },
   "file_extension": ".py",
   "mimetype": "text/x-python",
   "name": "python",
   "nbconvert_exporter": "python",
   "pygments_lexer": "ipython3",
   "version": "3.6.5"
  }
 },
 "nbformat": 4,
 "nbformat_minor": 2
}
